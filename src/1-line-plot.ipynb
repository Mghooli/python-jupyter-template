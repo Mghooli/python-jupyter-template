{
 "cells": [
  {
   "cell_type": "markdown",
   "metadata": {},
   "source": [
    "### Exercise 1: Line Plot Customization"
   ]
  },
  {
   "cell_type": "code",
   "execution_count": null,
   "metadata": {},
   "outputs": [],
   "source": [
    "# TASK: Create a line plot with x values ranging from 0 to 10 and y values as the square of x.\n",
    "# Customize the plot by adding a title, labels for both axes, and a grid."
   ]
  },
  {
   "cell_type": "code",
   "execution_count": null,
   "metadata": {},
   "outputs": [],
   "source": [
    "import matplotlib.pyplot as plt\n",
    "\n",
    "# Define x values from 0 to 10\n",
    "x = range(0, 11)\n",
    "\n",
    "# Calculate y values as the square of x\n",
    "y = [i**2 for i in x]\n",
    "\n",
    "# Create the line plot\n",
    "plt.plot(x, y, marker='o', linestyle='-', color='b')\n",
    "\n",
    "# Add a title\n",
    "plt.title('Line bar chat = x^2')\n",
    "\n",
    "# Add labels for the x and y axes\n",
    "plt.xlabel('x values')\n",
    "plt.ylabel('y = x^2')\n",
    "\n",
    "# Add a grid to the plot\n",
    "plt.grid(True)\n",
    "\n",
    "# Display the plot\n",
    "plt.show()"
   ]
  },
  {
   "cell_type": "code",
   "execution_count": null,
   "metadata": {},
   "outputs": [],
   "source": []
  }
 ],
 "metadata": {
  "language_info": {
   "name": "python"
  }
 },
 "nbformat": 4,
 "nbformat_minor": 2
}
