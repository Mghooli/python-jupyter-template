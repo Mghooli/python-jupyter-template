{
 "cells": [
  {
   "cell_type": "markdown",
   "metadata": {},
   "source": [
    "### Exercise 6: Histogram Customization"
   ]
  },
  {
   "cell_type": "code",
   "execution_count": null,
   "metadata": {},
   "outputs": [],
   "source": [
    "# TASK: Create a histogram for the following data: data = [1, 2, 2, 3, 3, 3, 4, 4, 4, 4, 5].\n",
    "# Customize the histogram with a title, labels for the x-axis, and a specific color for the bars."
   ]
  },
  {
   "cell_type": "code",
   "execution_count": null,
   "metadata": {},
   "outputs": [],
   "source": [
    "import pandas as pd\n",
    "import matplotlib.pyplot as plt\n",
    "import numpy as np\n",
    "\n",
    "# Step 1: Create DataFrame\n",
    "data = {\n",
    "    'Name': ['Anu', 'Rahul', 'Deepak', 'Priya', 'Vijay'],\n",
    "    'Age': [25, 30, 35, 40, 45],\n",
    "    'City': ['Delhi', 'Mumbai', 'Bangalore', 'Hyderabad', 'Chennai']\n",
    "}\n",
    "df = pd.DataFrame(data)\n",
    "\n",
    "# Step 2: Add 'Age Group' column using pd.cut()\n",
    "df['Age Group'] = pd.cut(df['Age'], bins=[20, 30, 40, 50], labels=['20s', '30s', '40s'])\n",
    "\n",
    "# Step 3: Filter individuals in their 30s\n",
    "df_30s = df[df['Age Group'] == '30s']\n",
    "\n",
    "# Step 4: Compute statistics\n",
    "mean_age = df['Age'].mean()\n",
    "median_age = df['Age'].median()\n",
    "variance_age = df['Age'].var()\n",
    "\n",
    "# Display results\n",
    "print(\"DataFrame with Age Groups:\")\n",
    "print(df)\n",
    "print(\"\\nIndividuals in their 30s:\")\n",
    "print(df_30s)\n",
    "print(\"\\nStatistics:\")\n",
    "print(f\"Mean Age: {mean_age}\")\n",
    "print(f\"Median Age: {median_age}\")\n",
    "print(f\"Variance of Age: {variance_age}\")\n",
    "\n",
    "# Step 5: Create a pie chart\n",
    "labels = ['Python', 'Java', 'C++', 'JavaScript']\n",
    "sizes = [40, 25, 20, 15]\n",
    "plt.figure(figsize=(6, 6))\n",
    "plt.pie(sizes, labels=labels, autopct='%1.1f%%', startangle=140)\n",
    "plt.title(\"Programming Language Popularity\")\n",
    "plt.show()\n",
    "\n",
    "# Step 6: Create a histogram\n",
    "data = [1, 2, 2, 3, 3, 3, 4, 4, 4, 4, 5]\n",
    "plt.figure(figsize=(6, 4))\n",
    "plt.hist(data, bins=5, color='skyblue', edgecolor='black')\n",
    "plt.xlabel(\"Value\")\n",
    "plt.ylabel(\"Frequency\")\n",
    "plt.title(\"Histogram of Data\")\n",
    "plt.show()\n"
   ]
  }
 ],
 "metadata": {
  "language_info": {
   "name": "python"
  }
 },
 "nbformat": 4,
 "nbformat_minor": 2
}
