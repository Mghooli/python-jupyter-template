{
 "cells": [
  {
   "cell_type": "markdown",
   "metadata": {},
   "source": [
    "### Exercise 5: Subplot Layout"
   ]
  },
  {
   "cell_type": "code",
   "execution_count": null,
   "metadata": {},
   "outputs": [],
   "source": [
    "# TASK: Create a 2x2 subplot layout.\n",
    "# Plot a line chart in the first subplot, a bar chart in the second, a scatter plot in the third, and a pie chart in the fourth."
   ]
  },
  {
   "cell_type": "code",
   "execution_count": null,
   "metadata": {},
   "outputs": [],
   "source": [
    "import matplotlib.pyplot as plt\n",
    "import numpy as np\n",
    "\n",
    "# Sample data\n",
    "x = np.linspace(1, 10, 10)\n",
    "y = np.sin(x)\n",
    "\n",
    "bar_labels = ['A', 'B', 'C', 'D', 'E']\n",
    "bar_values = [5, 7, 3, 8, 6]\n",
    "\n",
    "scatter_x = np.random.rand(10)\n",
    "scatter_y = np.random.rand(10)\n",
    "\n",
    "pie_labels = ['C', 'Java', 'C++', 'JavaScript']\n",
    "pie_sizes = [50, 25, 20, 15]\n",
    "\n",
    "# Create subplots\n",
    "fig, axs = plt.subplots(2, 2, figsize=(10, 10))\n",
    "\n",
    "# Line chart\n",
    "axs[0, 0].plot(x, y, marker='o', linestyle='-')\n",
    "axs[0, 0].set_title('Line Chart')\n",
    "\n",
    "# Bar chart\n",
    "axs[0, 1].bar(bar_labels, bar_values, color='blue')\n",
    "axs[0, 1].set_title('Bar Chart')\n",
    "\n",
    "# Scatter plot\n",
    "axs[1, 0].scatter(scatter_x, scatter_y, color='red')\n",
    "axs[1, 0].set_title('Scatter Plot')\n",
    "\n",
    "# Pie chart\n",
    "axs[1, 1].pie(pie_sizes, labels=pie_labels, autopct='%1.1f%%', startangle=140)\n",
    "axs[1, 1].set_title('Pie Chart')\n",
    "\n",
    "# Adjust layout\n",
    "plt.tight_layout()\n",
    "plt.show()\n"
   ]
  },
  {
   "cell_type": "code",
   "execution_count": null,
   "metadata": {},
   "outputs": [],
   "source": []
  }
 ],
 "metadata": {
  "language_info": {
   "name": "python"
  }
 },
 "nbformat": 4,
 "nbformat_minor": 2
}
